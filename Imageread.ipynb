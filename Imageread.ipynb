import cv2
import matplotlib.pyplot as plt
In [2]:
!git clone https://github.com/mohanrajmit/Image-Read.git
Cloning into 'Image-Read'...
remote: Enumerating objects: 9, done.
remote: Counting objects: 100% (9/9), done.
remote: Compressing objects: 100% (8/8), done.
remote: Total 9 (delta 0), reused 0 (delta 0), pack-reused 0
Unpacking objects: 100% (9/9), done.
In [3]:
image = cv2.imread("Image-Read/1.jpg")
h=image.shape[0]
w=image.shape[1]
c=image.shape[2]

print(h,w,c)
720 1280 3
In [4]:
(b,g,r) = image[10,20]
print(b,g,r)
126 129 133
In [5]:
plt.imshow(image)
